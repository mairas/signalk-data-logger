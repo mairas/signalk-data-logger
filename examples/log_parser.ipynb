{
 "cells": [
  {
   "cell_type": "code",
   "execution_count": 1,
   "metadata": {},
   "outputs": [],
   "source": [
    "import numpy as np\n",
    "import pandas as pd\n",
    "from pathlib import Path\n",
    "import gzip\n",
    "import json\n",
    "import itertools\n",
    "import io\n",
    "import pickle\n",
    "from numbers import Number"
   ]
  },
  {
   "cell_type": "code",
   "execution_count": 2,
   "metadata": {},
   "outputs": [],
   "source": [
    "log_dir = Path('/Users/mairas/BTSync/Shared/hurma_data/sk-data-log')"
   ]
  },
  {
   "cell_type": "code",
   "execution_count": 3,
   "metadata": {},
   "outputs": [],
   "source": [
    "log_filenames = log_dir.glob('*.log*')"
   ]
  },
  {
   "cell_type": "code",
   "execution_count": 4,
   "metadata": {},
   "outputs": [],
   "source": [
    "def smart_open(fn):\n",
    "    opener = gzip.open if fn.suffix=='.gz' else open\n",
    "    return opener(fn)"
   ]
  },
  {
   "cell_type": "code",
   "execution_count": 5,
   "metadata": {},
   "outputs": [],
   "source": [
    "def line_reader(f):\n",
    "    for line in f:\n",
    "        yield line if type(line)==str else line.decode('utf-8')"
   ]
  },
  {
   "cell_type": "code",
   "execution_count": 6,
   "metadata": {},
   "outputs": [],
   "source": [
    "all_lines = itertools.chain.from_iterable(\n",
    "    (line_reader(smart_open(lfn)) for lfn in log_filenames))"
   ]
  },
  {
   "cell_type": "code",
   "execution_count": 7,
   "metadata": {},
   "outputs": [
    {
     "name": "stdout",
     "output_type": "stream",
     "text": [
      "CPU times: user 24.5 s, sys: 2.86 s, total: 27.3 s\n",
      "Wall time: 31.8 s\n"
     ]
    }
   ],
   "source": [
    "%%time\n",
    "all_lines = list(all_lines)"
   ]
  },
  {
   "cell_type": "code",
   "execution_count": 8,
   "metadata": {},
   "outputs": [
    {
     "data": {
      "text/plain": [
       "7064114"
      ]
     },
     "execution_count": 8,
     "metadata": {},
     "output_type": "execute_result"
    }
   ],
   "source": [
    "len(all_lines)"
   ]
  },
  {
   "cell_type": "code",
   "execution_count": 9,
   "metadata": {},
   "outputs": [],
   "source": [
    "l0 = all_lines[0]"
   ]
  },
  {
   "cell_type": "code",
   "execution_count": 10,
   "metadata": {},
   "outputs": [
    {
     "name": "stdout",
     "output_type": "stream",
     "text": [
      "{\"updates\":[{\"source\":{\"label\":\"Arduino NMEA2000 Gateway\",\"type\":\"NMEA2000\",\"pgn\":129025,\"src\":\"1\"},\"timestamp\":\"2018-07-22T14:59:59.699Z\",\"values\":[{\"path\":\"navigation.position\",\"value\":{\"longitude\":22.9369913,\"latitude\":59.808698}}]}],\"context\":\"vessels.urn:mrn:imo:mmsi:230093890\"}\n",
      "\n"
     ]
    }
   ],
   "source": [
    "print(l0)"
   ]
  },
  {
   "cell_type": "code",
   "execution_count": 11,
   "metadata": {},
   "outputs": [],
   "source": [
    "def load_all_lines(all_lines):\n",
    "    for line in all_lines:\n",
    "        try:\n",
    "            json_object = json.loads(line)\n",
    "        except Exception as err:\n",
    "            continue\n",
    "        yield json_object"
   ]
  },
  {
   "cell_type": "code",
   "execution_count": 12,
   "metadata": {},
   "outputs": [],
   "source": [
    "all_json = load_all_lines(all_lines)"
   ]
  },
  {
   "cell_type": "raw",
   "metadata": {},
   "source": [
    "all_paths = [\n",
    "    'design.aisShipType',\n",
    "    'design.beam',\n",
    "    'design.draft',\n",
    "    'design.length',\n",
    "    'environment.depth.belowSurface',\n",
    "    'environment.depth.belowTransducer',\n",
    "    'environment.depth.surfaceToTransducer',\n",
    "    'environment.water.temperature',\n",
    "    'environment.wind.angleApparent',\n",
    "    'environment.wind.speedApparent',\n",
    "    'navigation.courseGreatCircle.bearingTrackTrue',\n",
    "    'navigation.courseGreatCircle.crossTrackError',\n",
    "    'navigation.courseGreatCircle.nextPoint.bearingTrue',\n",
    "    'navigation.courseGreatCircle.nextPoint.distance',\n",
    "    'navigation.courseGreatCircle.nextPoint.position',\n",
    "    'navigation.courseGreatCircle.nextPoint.timeToGo',\n",
    "    'navigation.courseGreatCircle.nextPoint.velocityMadeGood',\n",
    "    'navigation.courseOverGroundTrue',\n",
    "    'navigation.courseRhumbline.crossTrackError',\n",
    "    'navigation.courseRhumbline.nextPoint.position',\n",
    "    'navigation.currentRoute.name',\n",
    "    'navigation.currentRoute.waypoints',\n",
    "    'navigation.datetime',\n",
    "    'navigation.destination.commonName',\n",
    "    'navigation.gnss.antennaAltitude',\n",
    "    'navigation.gnss.geoidalSeparation',\n",
    "    'navigation.gnss.horizontalDilution',\n",
    "    'navigation.gnss.integrity',\n",
    "    'navigation.gnss.methodQuality',\n",
    "    'navigation.gnss.positionDilution',\n",
    "    'navigation.gnss.satellites',\n",
    "    'navigation.gnss.type',\n",
    "    'navigation.headingMagnetic',\n",
    "    'navigation.headingTrue',\n",
    "    'navigation.log',\n",
    "    'navigation.magneticVariation',\n",
    "    'navigation.position',\n",
    "    'navigation.rateOfTurn',\n",
    "    'navigation.speedOverGround',\n",
    "    'navigation.speedThroughWater',\n",
    "    'navigation.speedThroughWaterReferenceType',\n",
    "    'navigation.state',\n",
    "    'navigation.trip.log',\n",
    "    'notifications.instrument.PilotOffCourse',\n",
    "    'propulsion.port.coolantTemperature',\n",
    "    'propulsion.port.exhaustTemperature',\n",
    "    'propulsion.port.temperature',\n",
    "    'sensors.ais.fromBow',\n",
    "    'sensors.ais.fromCenter',\n",
    "    'sensors.engine-temp.freeMem',\n",
    "    'steering.autopilot.target.headingMagnetic',\n",
    "    'steering.rudderAngle']"
   ]
  },
  {
   "cell_type": "code",
   "execution_count": 13,
   "metadata": {},
   "outputs": [],
   "source": [
    "enabled_paths = {\n",
    "    'environment.depth.belowSurface',\n",
    "    'environment.water.temperature',\n",
    "    'environment.wind.angleApparent',\n",
    "    'environment.wind.speedApparent',\n",
    "    'navigation.courseOverGroundTrue',\n",
    "    'navigation.headingMagnetic',\n",
    "    'navigation.headingTrue',\n",
    "    'navigation.magneticVariation',\n",
    "    'navigation.position',\n",
    "    'navigation.rateOfTurn',\n",
    "    'navigation.speedOverGround',\n",
    "    'navigation.speedThroughWater',\n",
    "    'propulsion.port.coolantTemperature',\n",
    "    'propulsion.port.exhaustTemperature',\n",
    "    'propulsion.port.temperature',\n",
    "}"
   ]
  },
  {
   "cell_type": "raw",
   "metadata": {},
   "source": [
    "%%time\n",
    "all_json = list(all_json)"
   ]
  },
  {
   "cell_type": "code",
   "execution_count": 14,
   "metadata": {},
   "outputs": [],
   "source": [
    "def collect_data(all_json):\n",
    "    data = {}\n",
    "    for j in all_json:\n",
    "        for upd in j['updates']:\n",
    "            dt = np.datetime64(upd['timestamp'])\n",
    "            for val in upd['values']:\n",
    "                if val['path'] in enabled_paths:\n",
    "                    if isinstance(val['value'], dict):\n",
    "                        for val_k, val_v in val['value'].items():\n",
    "                            if not isinstance(val_v, Number):\n",
    "                                continue\n",
    "                            k = val['path'] + '.' + val_k\n",
    "                            data.setdefault(k, []).append((dt, val_v))\n",
    "                    else:\n",
    "                        if not isinstance(val['value'], Number):\n",
    "                            continue\n",
    "                        data.setdefault(val['path'], []).append((dt, val['value']))\n",
    "    return data"
   ]
  },
  {
   "cell_type": "code",
   "execution_count": 15,
   "metadata": {},
   "outputs": [
    {
     "name": "stderr",
     "output_type": "stream",
     "text": [
      "/usr/local/lib/python3.7/site-packages/ipykernel_launcher.py:5: DeprecationWarning: parsing timezone aware datetimes is deprecated; this will raise an error in the future\n",
      "  \"\"\"\n"
     ]
    },
    {
     "name": "stdout",
     "output_type": "stream",
     "text": [
      "CPU times: user 2min 15s, sys: 3.99 s, total: 2min 19s\n",
      "Wall time: 2min 34s\n"
     ]
    }
   ],
   "source": [
    "%%time\n",
    "data = collect_data(all_json)"
   ]
  },
  {
   "cell_type": "code",
   "execution_count": 16,
   "metadata": {},
   "outputs": [
    {
     "data": {
      "text/plain": [
       "dict_keys(['navigation.position.longitude', 'navigation.position.latitude', 'environment.water.temperature', 'navigation.headingMagnetic', 'navigation.speedOverGround', 'navigation.courseOverGroundTrue', 'environment.wind.speedApparent', 'environment.wind.angleApparent', 'propulsion.port.exhaustTemperature', 'propulsion.port.temperature', 'propulsion.port.coolantTemperature', 'environment.depth.belowSurface', 'navigation.speedThroughWater', 'navigation.magneticVariation', 'navigation.rateOfTurn', 'navigation.headingTrue'])"
      ]
     },
     "execution_count": 16,
     "metadata": {},
     "output_type": "execute_result"
    }
   ],
   "source": [
    "data.keys()"
   ]
  },
  {
   "cell_type": "code",
   "execution_count": 17,
   "metadata": {},
   "outputs": [],
   "source": [
    "def convert_to_pandas(data):\n",
    "    pddata = {}\n",
    "    for k, v in data.items():\n",
    "        t = np.array([c[0] for c in v])\n",
    "        d = np.array([c[1] for c in v])\n",
    "        ser = pd.Series(d, index=t, name=k)\n",
    "        pddata[k] = ser.loc[~ser.index.duplicated(keep='first')]\n",
    "    return pddata"
   ]
  },
  {
   "cell_type": "code",
   "execution_count": 18,
   "metadata": {},
   "outputs": [],
   "source": [
    "pddata = convert_to_pandas(data)"
   ]
  },
  {
   "cell_type": "code",
   "execution_count": 19,
   "metadata": {},
   "outputs": [
    {
     "data": {
      "text/plain": [
       "2018-07-22 14:59:59.764   -3.106685\n",
       "2018-07-22 14:59:59.884   -3.106685\n",
       "2018-07-22 14:59:59.949   -3.106685\n",
       "2018-07-22 15:00:00.074   -3.106685\n",
       "2018-07-22 15:00:00.147   -3.106685\n",
       "2018-07-22 15:00:00.253   -3.106685\n",
       "2018-07-22 15:00:00.353   -3.106685\n",
       "2018-07-22 15:00:00.454   -3.106685\n",
       "2018-07-22 15:00:00.551   -3.106685\n",
       "2018-07-22 15:00:00.669   -3.106685\n",
       "2018-07-22 15:00:00.754   -3.106685\n",
       "2018-07-22 15:00:00.868   -3.106685\n",
       "2018-07-22 15:00:00.950   -3.106685\n",
       "2018-07-22 15:00:01.074   -3.106685\n",
       "2018-07-22 15:00:01.155   -3.106685\n",
       "2018-07-22 15:00:01.254   -3.106685\n",
       "2018-07-22 15:00:01.354   -3.054285\n",
       "2018-07-22 15:00:01.470   -3.054285\n",
       "2018-07-22 15:00:01.556   -3.054285\n",
       "2018-07-22 15:00:01.653   -3.054285\n",
       "2018-07-22 15:00:01.752   -3.054285\n",
       "2018-07-22 15:00:01.857   -3.054285\n",
       "2018-07-22 15:00:01.955   -3.054285\n",
       "2018-07-22 15:00:02.059   -3.054285\n",
       "2018-07-22 15:00:02.154   -3.054285\n",
       "2018-07-22 15:00:02.276   -3.054285\n",
       "2018-07-22 15:00:02.359   -3.054285\n",
       "2018-07-22 15:00:02.452   -3.054285\n",
       "2018-07-22 15:00:02.558   -3.054285\n",
       "2018-07-22 15:00:02.661   -3.054285\n",
       "                             ...   \n",
       "2018-07-23 15:07:29.609    2.007100\n",
       "2018-07-23 15:07:29.706    1.989700\n",
       "2018-07-23 15:07:29.801    1.989700\n",
       "2018-07-23 15:07:29.902    1.989700\n",
       "2018-07-23 15:07:30.006    1.989700\n",
       "2018-07-23 15:07:30.103    1.989700\n",
       "2018-07-23 15:07:30.203    1.989700\n",
       "2018-07-23 15:07:30.311    1.989700\n",
       "2018-07-23 15:07:30.407    1.989700\n",
       "2018-07-23 15:07:30.506    1.989700\n",
       "2018-07-23 15:07:30.605    1.989700\n",
       "2018-07-23 15:07:30.705    1.972200\n",
       "2018-07-23 15:07:30.803    1.972200\n",
       "2018-07-23 15:07:30.904    1.972200\n",
       "2018-07-23 15:07:31.012    1.972200\n",
       "2018-07-23 15:07:31.104    1.972200\n",
       "2018-07-23 15:07:31.210    1.972200\n",
       "2018-07-23 15:07:31.311    1.972200\n",
       "2018-07-23 15:07:31.406    1.972200\n",
       "2018-07-23 15:07:31.512    1.972200\n",
       "2018-07-23 15:07:31.609    1.972200\n",
       "2018-07-23 15:07:31.711    1.954800\n",
       "2018-07-23 15:07:31.807    1.954800\n",
       "2018-07-23 15:07:31.907    1.954800\n",
       "2018-07-23 15:07:32.010    1.954800\n",
       "2018-07-23 15:07:32.110    1.954800\n",
       "2018-07-23 15:07:32.214    1.954800\n",
       "2018-07-23 15:07:32.309    1.954800\n",
       "2018-07-23 15:07:32.417    1.954800\n",
       "2018-07-23 15:07:32.509    1.954800\n",
       "Name: environment.wind.angleApparent, Length: 1621538, dtype: float64"
      ]
     },
     "execution_count": 19,
     "metadata": {},
     "output_type": "execute_result"
    }
   ],
   "source": [
    "pddata['environment.wind.angleApparent']"
   ]
  },
  {
   "cell_type": "raw",
   "metadata": {},
   "source": [
    "del data"
   ]
  },
  {
   "cell_type": "code",
   "execution_count": 20,
   "metadata": {},
   "outputs": [],
   "source": [
    "with (log_dir / \"pddata.pickle\").open('wb') as f:\n",
    "    pickle.dump(pddata, f)"
   ]
  },
  {
   "cell_type": "code",
   "execution_count": null,
   "metadata": {},
   "outputs": [],
   "source": []
  }
 ],
 "metadata": {
  "kernelspec": {
   "display_name": "Python 3",
   "language": "python",
   "name": "python3"
  },
  "language_info": {
   "codemirror_mode": {
    "name": "ipython",
    "version": 3
   },
   "file_extension": ".py",
   "mimetype": "text/x-python",
   "name": "python",
   "nbconvert_exporter": "python",
   "pygments_lexer": "ipython3",
   "version": "3.7.0"
  }
 },
 "nbformat": 4,
 "nbformat_minor": 2
}
